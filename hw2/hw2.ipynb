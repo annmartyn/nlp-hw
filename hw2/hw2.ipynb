{
 "cells": [
  {
   "cell_type": "markdown",
   "metadata": {},
   "source": [
    "# Домашнее задание 2\n",
    "Для работы я написала свой текст (на 207 слов) и разметила его вручную. Мини-корпус лежит в файле *gold.tsv*. Для рразметки я пользовалась придуманным мною тэгсэтам, основанным на тэгсэте pymorphy.\n",
    "Дальше мною были выбраны три морфо-парсера (pymorphy, mystem и slovnet, который является частью natasha)"
   ]
  },
  {
   "cell_type": "code",
   "execution_count": 112,
   "metadata": {},
   "outputs": [],
   "source": [
    "import csv\n",
    "from pymorphy2 import MorphAnalyzer\n",
    "morph = MorphAnalyzer()\n",
    "import pandas as pd\n",
    "from sklearn.metrics import accuracy_score"
   ]
  },
  {
   "cell_type": "code",
   "execution_count": 113,
   "metadata": {},
   "outputs": [],
   "source": [
    "from razdel import sentenize, tokenize\n",
    "from navec import Navec\n",
    "from slovnet import Morph"
   ]
  },
  {
   "cell_type": "code",
   "execution_count": 114,
   "metadata": {},
   "outputs": [],
   "source": [
    "textlist = []\n",
    "gold_pos = []\n",
    "with open('gold.tsv', 'r', encoding='utf-8') as data:\n",
    "    tsv_file = csv.reader(data, delimiter=\"\\t\")\n",
    "    for line in tsv_file:\n",
    "        textlist.append(line[0])\n",
    "        gold_pos.append(line[1])"
   ]
  },
  {
   "cell_type": "code",
   "execution_count": 115,
   "metadata": {},
   "outputs": [],
   "source": [
    "from pymystem3 import Mystem\n",
    "m = Mystem()"
   ]
  },
  {
   "cell_type": "code",
   "execution_count": 116,
   "metadata": {},
   "outputs": [],
   "source": [
    "ana = m.analyze(' '.join(textlist))"
   ]
  },
  {
   "cell_type": "markdown",
   "metadata": {},
   "source": [
    "С mystem возникали некоторые проблемы, потому что он принимает на вход текст, а не список слов, пришлось дорабатывать некоторые случаи вручную"
   ]
  },
  {
   "cell_type": "code",
   "execution_count": 134,
   "metadata": {},
   "outputs": [],
   "source": [
    "mystem_pos = []\n",
    "mst = []\n",
    "for word in ana:\n",
    "    if 'analysis' in word:\n",
    "        if len(word['analysis']) > 0:\n",
    "            gr = word['analysis'][0]['gr']\n",
    "            pos = gr.split('=')[0].split(',')[0]\n",
    "            mystem_pos.append(pos)\n",
    "            mst.append([word['text'], pos])\n",
    "        elif word['text'] != ' ' and word['text'] != '00' and word['text'] != ':' and word['text'] != '\\n':\n",
    "            pos = 'UNKN'\n",
    "            mystem_pos.append(pos)\n",
    "            mst.append([word['text'], pos])\n",
    "    elif word['text'] != ' ' and word['text'] != '00' and word['text'] != ':' and word['text'] != '\\n':\n",
    "            pos = 'UNKN'\n",
    "            mystem_pos.append(pos)\n",
    "            mst.append([word['text'], pos])"
   ]
  },
  {
   "cell_type": "code",
   "execution_count": 121,
   "metadata": {},
   "outputs": [],
   "source": [
    "pymorphy_pos = []\n",
    "for word in textlist:\n",
    "    pym = morph.parse(word)\n",
    "    tags = str(pym[0].tag).split(',')\n",
    "    pos = tags[0]\n",
    "    if len(pos) > 4:\n",
    "        new_tags = pos.split(' ')\n",
    "        pos = new_tags[0]\n",
    "    pymorphy_pos.append(pos)"
   ]
  },
  {
   "cell_type": "code",
   "execution_count": 123,
   "metadata": {},
   "outputs": [],
   "source": [
    "navec = Navec.load('navec_news_v1_1B_250K_300d_100q.tar')\n",
    "morphy = Morph.load('slovnet_morph_news_v1.tar', batch_size=4)\n",
    "morphy.navec(navec)\n",
    "\n",
    "slovnet_pos = []\n",
    "chunk = []\n",
    "chunk.append(textlist)\n",
    "markup = next(morphy.map(chunk))\n",
    "for token in markup.tokens:\n",
    "    POS = token.tag.split('|')[0]\n",
    "    slovnet_pos.append(POS)"
   ]
  },
  {
   "cell_type": "markdown",
   "metadata": {},
   "source": [
    "После обработки данных, соберем их все в датафрейм и пропишем функции, которые приведут все тэгсэты к общему виду"
   ]
  },
  {
   "cell_type": "code",
   "execution_count": 125,
   "metadata": {},
   "outputs": [],
   "source": [
    "df = pd.DataFrame({'pos': textlist, 'gold': gold_pos, 'mystem': mystem_pos, 'pymorphy': pymorphy_pos, 'slovnet': slovnet_pos})"
   ]
  },
  {
   "cell_type": "code",
   "execution_count": 126,
   "metadata": {},
   "outputs": [],
   "source": [
    "def pmtogold(PartOfSpeech):\n",
    "    adj = ['ADJF', 'ADJS', 'COMP']\n",
    "    verb = ['VERB', 'INFN', 'PRTF', 'PRTS', 'GRND']\n",
    "    if PartOfSpeech in adj:\n",
    "        return 'ADJ'\n",
    "    elif PartOfSpeech in verb:\n",
    "        return 'VERB'\n",
    "    elif PartOfSpeech == 'NPRO':\n",
    "        return 'PRON'\n",
    "    elif PartOfSpeech == 'PRCL':\n",
    "        return 'PART'\n",
    "    else:\n",
    "        return PartOfSpeech"
   ]
  },
  {
   "cell_type": "code",
   "execution_count": 127,
   "metadata": {},
   "outputs": [],
   "source": [
    "def mstogold(PartOfSpeech):\n",
    "    if PartOfSpeech == 'PR':\n",
    "        return 'PREP'\n",
    "    elif PartOfSpeech == 'A':\n",
    "        return 'ADJ'\n",
    "    elif PartOfSpeech == 'S':\n",
    "        return 'NOUN'\n",
    "    elif PartOfSpeech == 'ADV':\n",
    "        return 'ADVB'\n",
    "    elif PartOfSpeech == 'ADVPRO' or PartOfSpeech == 'APRO' or PartOfSpeech == 'SPRO':\n",
    "        return 'PRON'\n",
    "    elif PartOfSpeech == 'ANUM' or PartOfSpeech == 'NUM':\n",
    "        return 'NUMR'\n",
    "    elif PartOfSpeech == 'V':\n",
    "        return 'VERB'\n",
    "    else:\n",
    "        return PartOfSpeech"
   ]
  },
  {
   "cell_type": "code",
   "execution_count": 128,
   "metadata": {},
   "outputs": [],
   "source": [
    "def sntogold(PartOfSpeech):\n",
    "    if PartOfSpeech == 'DET':\n",
    "        return 'PRON'\n",
    "    elif PartOfSpeech == 'ADP':\n",
    "        return 'PREP'\n",
    "    elif PartOfSpeech == 'NUM':\n",
    "        return 'NUMR'\n",
    "    elif PartOfSpeech == 'CCONJ' or PartOfSpeech == 'SCONJ':\n",
    "        return 'CONJ'\n",
    "    elif PartOfSpeech == 'ADV':\n",
    "        return 'ADVB'\n",
    "    elif PartOfSpeech == 'PROPN':\n",
    "        return 'NOUN'\n",
    "    elif PartOfSpeech == 'AUX':\n",
    "        return 'VERB'\n",
    "    else:\n",
    "        return PartOfSpeech"
   ]
  },
  {
   "cell_type": "code",
   "execution_count": 129,
   "metadata": {},
   "outputs": [],
   "source": [
    "df['pymorphy'] = df['pymorphy'].apply(pmtogold)\n",
    "df['mystem'] = df['mystem'].apply(mstogold)\n",
    "df['slovnet'] = df['slovnet'].apply(sntogold)"
   ]
  },
  {
   "cell_type": "code",
   "execution_count": 130,
   "metadata": {},
   "outputs": [
    {
     "data": {
      "text/html": [
       "<div>\n",
       "<style scoped>\n",
       "    .dataframe tbody tr th:only-of-type {\n",
       "        vertical-align: middle;\n",
       "    }\n",
       "\n",
       "    .dataframe tbody tr th {\n",
       "        vertical-align: top;\n",
       "    }\n",
       "\n",
       "    .dataframe thead th {\n",
       "        text-align: right;\n",
       "    }\n",
       "</style>\n",
       "<table border=\"1\" class=\"dataframe\">\n",
       "  <thead>\n",
       "    <tr style=\"text-align: right;\">\n",
       "      <th></th>\n",
       "      <th>pos</th>\n",
       "      <th>gold</th>\n",
       "      <th>mystem</th>\n",
       "      <th>pymorphy</th>\n",
       "      <th>slovnet</th>\n",
       "    </tr>\n",
       "  </thead>\n",
       "  <tbody>\n",
       "    <tr>\n",
       "      <th>0</th>\n",
       "      <td>наш</td>\n",
       "      <td>PRON</td>\n",
       "      <td>PRON</td>\n",
       "      <td>ADJ</td>\n",
       "      <td>PRON</td>\n",
       "    </tr>\n",
       "    <tr>\n",
       "      <th>1</th>\n",
       "      <td>12часовой</td>\n",
       "      <td>ADJ</td>\n",
       "      <td>UNKN</td>\n",
       "      <td>ADJ</td>\n",
       "      <td>ADJ</td>\n",
       "    </tr>\n",
       "    <tr>\n",
       "      <th>2</th>\n",
       "      <td>сон</td>\n",
       "      <td>NOUN</td>\n",
       "      <td>NOUN</td>\n",
       "      <td>NOUN</td>\n",
       "      <td>NOUN</td>\n",
       "    </tr>\n",
       "    <tr>\n",
       "      <th>3</th>\n",
       "      <td>плохо</td>\n",
       "      <td>ADVB</td>\n",
       "      <td>ADVB</td>\n",
       "      <td>PRED</td>\n",
       "      <td>ADJ</td>\n",
       "    </tr>\n",
       "    <tr>\n",
       "      <th>4</th>\n",
       "      <td>для</td>\n",
       "      <td>PREP</td>\n",
       "      <td>PREP</td>\n",
       "      <td>PREP</td>\n",
       "      <td>PREP</td>\n",
       "    </tr>\n",
       "    <tr>\n",
       "      <th>...</th>\n",
       "      <td>...</td>\n",
       "      <td>...</td>\n",
       "      <td>...</td>\n",
       "      <td>...</td>\n",
       "      <td>...</td>\n",
       "    </tr>\n",
       "    <tr>\n",
       "      <th>202</th>\n",
       "      <td>хорошего</td>\n",
       "      <td>ADJ</td>\n",
       "      <td>ADJ</td>\n",
       "      <td>ADJ</td>\n",
       "      <td>ADJ</td>\n",
       "    </tr>\n",
       "    <tr>\n",
       "      <th>203</th>\n",
       "      <td>придумать</td>\n",
       "      <td>VERB</td>\n",
       "      <td>VERB</td>\n",
       "      <td>VERB</td>\n",
       "      <td>VERB</td>\n",
       "    </tr>\n",
       "    <tr>\n",
       "      <th>204</th>\n",
       "      <td>не</td>\n",
       "      <td>PART</td>\n",
       "      <td>PART</td>\n",
       "      <td>PART</td>\n",
       "      <td>PART</td>\n",
       "    </tr>\n",
       "    <tr>\n",
       "      <th>205</th>\n",
       "      <td>могу</td>\n",
       "      <td>VERB</td>\n",
       "      <td>VERB</td>\n",
       "      <td>VERB</td>\n",
       "      <td>VERB</td>\n",
       "    </tr>\n",
       "    <tr>\n",
       "      <th>206</th>\n",
       "      <td>совсем</td>\n",
       "      <td>ADVB</td>\n",
       "      <td>ADVB</td>\n",
       "      <td>ADVB</td>\n",
       "      <td>ADVB</td>\n",
       "    </tr>\n",
       "  </tbody>\n",
       "</table>\n",
       "<p>207 rows × 5 columns</p>\n",
       "</div>"
      ],
      "text/plain": [
       "           pos  gold mystem pymorphy slovnet\n",
       "0          наш  PRON   PRON      ADJ    PRON\n",
       "1    12часовой   ADJ   UNKN      ADJ     ADJ\n",
       "2          сон  NOUN   NOUN     NOUN    NOUN\n",
       "3        плохо  ADVB   ADVB     PRED     ADJ\n",
       "4          для  PREP   PREP     PREP    PREP\n",
       "..         ...   ...    ...      ...     ...\n",
       "202   хорошего   ADJ    ADJ      ADJ     ADJ\n",
       "203  придумать  VERB   VERB     VERB    VERB\n",
       "204         не  PART   PART     PART    PART\n",
       "205       могу  VERB   VERB     VERB    VERB\n",
       "206     совсем  ADVB   ADVB     ADVB    ADVB\n",
       "\n",
       "[207 rows x 5 columns]"
      ]
     },
     "execution_count": 130,
     "metadata": {},
     "output_type": "execute_result"
    }
   ],
   "source": [
    "df"
   ]
  },
  {
   "cell_type": "code",
   "execution_count": 131,
   "metadata": {},
   "outputs": [],
   "source": [
    "gold = df['gold'].tolist()\n",
    "mystem = df['mystem'].tolist()\n",
    "pymorphy = df['pymorphy'].tolist()\n",
    "slovnet = df['slovnet'].tolist()"
   ]
  },
  {
   "cell_type": "markdown",
   "metadata": {},
   "source": [
    "Выведем точность каждого из трёх парсеров:"
   ]
  },
  {
   "cell_type": "code",
   "execution_count": 132,
   "metadata": {},
   "outputs": [
    {
     "name": "stdout",
     "output_type": "stream",
     "text": [
      "Точность mystem:  0.8695652173913043\n",
      "Точность pymorphy:  0.8019323671497585\n",
      "Точность slovnet:  0.855072463768116\n"
     ]
    }
   ],
   "source": [
    "print('Точность mystem: ', accuracy_score(mystem, gold))\n",
    "print('Точность pymorphy: ', accuracy_score(pymorphy, gold))\n",
    "print('Точность slovnet: ', accuracy_score(slovnet, gold))"
   ]
  },
  {
   "cell_type": "code",
   "execution_count": 137,
   "metadata": {},
   "outputs": [
    {
     "data": {
      "text/plain": [
       "[['наш', 'APRO'],\n",
       " ['12часовой', 'UNKN'],\n",
       " ['сон', 'S'],\n",
       " ['плохо', 'ADV'],\n",
       " ['для', 'PR'],\n",
       " ['нас', 'SPRO'],\n",
       " ['кончился', 'V'],\n",
       " ['получился', 'V'],\n",
       " ['полный', 'A'],\n",
       " ['кринж', 'S'],\n",
       " ['c', 'UNKN'],\n",
       " ['утра', 'S'],\n",
       " ['мне', 'SPRO'],\n",
       " ['пришлось', 'V'],\n",
       " ['пить', 'V'],\n",
       " ['кофе', 'S'],\n",
       " ['и', 'CONJ'],\n",
       " ['накидывать', 'V'],\n",
       " ['пальто', 'S'],\n",
       " ['за', 'PR'],\n",
       " ['пять', 'NUM'],\n",
       " ['минут', 'S'],\n",
       " ['при', 'PR'],\n",
       " ['этом', 'SPRO'],\n",
       " ['все', 'APRO'],\n",
       " ['мои', 'APRO'],\n",
       " ['попытки', 'S'],\n",
       " ['успеть', 'V'],\n",
       " ['на', 'PR'],\n",
       " ['автобус', 'S'],\n",
       " ['оказались', 'V'],\n",
       " ['тщетны', 'A'],\n",
       " ['вызвала', 'V'],\n",
       " ['такси', 'S'],\n",
       " ['но', 'CONJ'],\n",
       " ['из-за', 'PR'],\n",
       " ['пробок', 'S'],\n",
       " ['всё', 'SPRO'],\n",
       " ['равно', 'A'],\n",
       " ['опоздала', 'V'],\n",
       " ['на', 'PR'],\n",
       " ['электричку', 'S'],\n",
       " ['я', 'SPRO'],\n",
       " ['думала', 'V'],\n",
       " ['на', 'PR'],\n",
       " ['работе', 'S'],\n",
       " ['меня', 'SPRO'],\n",
       " ['казнят', 'V'],\n",
       " ['за', 'PR'],\n",
       " ['такое', 'APRO'],\n",
       " ['в', 'PR'],\n",
       " ['то', 'APRO'],\n",
       " ['же', 'PART'],\n",
       " ['время', 'S'],\n",
       " ['моя', 'APRO'],\n",
       " ['подруга', 'S'],\n",
       " ['всё', 'ADV'],\n",
       " ['прекрасно', 'A'],\n",
       " ['успела', 'V'],\n",
       " ['она', 'SPRO'],\n",
       " ['кажется', 'V'],\n",
       " ['даже', 'PART'],\n",
       " ['не', 'PART'],\n",
       " ['спешила', 'V'],\n",
       " ['позавтракала', 'V'],\n",
       " ['потом', 'ADVPRO'],\n",
       " ['в', 'PR'],\n",
       " ['столовой', 'S'],\n",
       " ['у', 'PR'],\n",
       " ['неё', 'SPRO'],\n",
       " ['появились', 'V'],\n",
       " ['другие', 'APRO'],\n",
       " ['проблемы', 'S'],\n",
       " ['на', 'PR'],\n",
       " ['работе', 'S'],\n",
       " ['их', 'SPRO'],\n",
       " ['начали', 'V'],\n",
       " ['убеждать', 'V'],\n",
       " ['проголосовать', 'V'],\n",
       " ['за', 'PR'],\n",
       " ['ЛДПР', 'S'],\n",
       " ['как', 'CONJ'],\n",
       " ['я', 'SPRO'],\n",
       " ['об', 'PR'],\n",
       " ['этом', 'SPRO'],\n",
       " ['узнала', 'V'],\n",
       " ['из', 'PR'],\n",
       " ['её', 'APRO'],\n",
       " ['твита', 'S'],\n",
       " ['конечно', 'ADV'],\n",
       " ['же', 'PART'],\n",
       " ['твиттер', 'S'],\n",
       " ['она', 'SPRO'],\n",
       " ['завела', 'V'],\n",
       " ['недавно', 'ADV'],\n",
       " ['чтобы', 'CONJ'],\n",
       " ['следить', 'V'],\n",
       " ['за', 'PR'],\n",
       " ['селебами', 'S'],\n",
       " ['вот', 'PART'],\n",
       " ['например', 'ADV'],\n",
       " ['Красных', 'A'],\n",
       " ['или', 'CONJ'],\n",
       " ['Воробьёв', 'S'],\n",
       " ['интересные', 'A'],\n",
       " ['ребята', 'S'],\n",
       " ['хайповые', 'A'],\n",
       " ['общем', 'A'],\n",
       " ['общем', 'A'],\n",
       " ['к', 'PR'],\n",
       " ['вечеру', 'S'],\n",
       " ['мы', 'SPRO'],\n",
       " ['обе', 'NUM'],\n",
       " ['были', 'V'],\n",
       " ['никакие', 'APRO'],\n",
       " ['встретились', 'V'],\n",
       " ['в', 'PR'],\n",
       " ['20', 'UNKN'],\n",
       " ['дома', 'S'],\n",
       " ['она', 'SPRO'],\n",
       " ['принесла', 'V'],\n",
       " ['бутылку', 'S'],\n",
       " ['вина', 'S'],\n",
       " ['всё-таки', 'PART'],\n",
       " ['нам', 'SPRO'],\n",
       " ['уже', 'ADV'],\n",
       " ['по', 'PR'],\n",
       " ['25', 'UNKN'],\n",
       " ['сошлись', 'V'],\n",
       " ['на', 'PR'],\n",
       " ['том', 'SPRO'],\n",
       " ['что', 'CONJ'],\n",
       " ['во', 'PR'],\n",
       " ['всех', 'APRO'],\n",
       " ['проблемах', 'S'],\n",
       " ['виноват', 'A'],\n",
       " ['ретроградный', 'A'],\n",
       " ['меркурий', 'S'],\n",
       " ['и', 'CONJ'],\n",
       " ['решили', 'V'],\n",
       " ['посмотреть', 'V'],\n",
       " ['Хор', 'S'],\n",
       " ['ну', 'PART'],\n",
       " ['и', 'CONJ'],\n",
       " ['концовка', 'S'],\n",
       " ['у', 'PR'],\n",
       " ['сериала', 'S'],\n",
       " ['кошмар', 'S'],\n",
       " ['мы', 'SPRO'],\n",
       " ['не', 'PART'],\n",
       " ['были', 'V'],\n",
       " ['к', 'PR'],\n",
       " ['такому', 'APRO'],\n",
       " ['готовы', 'A'],\n",
       " ['кто', 'SPRO'],\n",
       " ['так', 'ADVPRO'],\n",
       " ['вообще', 'ADV'],\n",
       " ['поступает', 'V'],\n",
       " ['будто', 'CONJ'],\n",
       " ['последний', 'A'],\n",
       " ['глупец', 'S'],\n",
       " ['капец', 'S'],\n",
       " ['но', 'CONJ'],\n",
       " ['завтра', 'ADV'],\n",
       " ['я', 'SPRO'],\n",
       " ['точно', 'ADV'],\n",
       " ['буду', 'V'],\n",
       " ['в', 'PR'],\n",
       " ['порядке', 'S'],\n",
       " ['проснусь', 'V'],\n",
       " ['вовремя', 'ADV'],\n",
       " ['и', 'CONJ'],\n",
       " ['пойду', 'V'],\n",
       " ['на', 'PR'],\n",
       " ['работу', 'S'],\n",
       " ['буду', 'V'],\n",
       " ['радоваться', 'V'],\n",
       " ['жизни', 'S'],\n",
       " ['обязательно', 'ADV'],\n",
       " ['брошу', 'V'],\n",
       " ['пить', 'V'],\n",
       " ['и', 'CONJ'],\n",
       " ['курить', 'V'],\n",
       " ['и', 'CONJ'],\n",
       " ['что-нибудь', 'SPRO'],\n",
       " ['ещё', 'ADV'],\n",
       " ['обязательно', 'ADV'],\n",
       " ['сделаю', 'V'],\n",
       " ['но', 'CONJ'],\n",
       " ['вот', 'PART'],\n",
       " ['сейчас', 'ADV'],\n",
       " ['я', 'SPRO'],\n",
       " ['прогуливаюсь', 'V'],\n",
       " ['по', 'PR'],\n",
       " ['мостовой', 'S'],\n",
       " ['малясь', 'V'],\n",
       " ['шатаясь', 'V'],\n",
       " ['и', 'CONJ'],\n",
       " ['думаю', 'V'],\n",
       " ['о', 'PR'],\n",
       " ['жизни', 'S'],\n",
       " ['ничего', 'SPRO'],\n",
       " ['хорошего', 'A'],\n",
       " ['придумать', 'V'],\n",
       " ['не', 'PART'],\n",
       " ['могу', 'V'],\n",
       " ['совсем', 'ADV']]"
      ]
     },
     "execution_count": 137,
     "metadata": {},
     "output_type": "execute_result"
    }
   ],
   "source": [
    "mst"
   ]
  },
  {
   "cell_type": "markdown",
   "metadata": {},
   "source": [
    "Таким образом, самым точным парсером оказался *mystem*, дальше будем пользоваться им. \n",
    "Для начала напишем функцию chunker - я делаю ее таким образом, чтобы можно было ввести две любые части речи и получить последовательность из двух слов"
   ]
  },
  {
   "cell_type": "code",
   "execution_count": 149,
   "metadata": {},
   "outputs": [],
   "source": [
    "def chunker(pos1, pos2):\n",
    "    combs = []\n",
    "    for combination in mst:\n",
    "        if combination[1] == pos1:\n",
    "            if mst[mst.index(combination) + 1][1] == pos2:\n",
    "                combs.append(str(combination[0] + ' ' + mst[mst.index(combination) + 1][0]))\n",
    "    return combs"
   ]
  },
  {
   "cell_type": "code",
   "execution_count": 150,
   "metadata": {},
   "outputs": [
    {
     "name": "stdout",
     "output_type": "stream",
     "text": [
      "['сон плохо', 'подруга всё', 'твита конечно', 'жизни обязательно', 'жизни обязательно']\n"
     ]
    }
   ],
   "source": [
    "noun_adverb = chunker('S', 'ADV')\n",
    "print(noun_adverb)"
   ]
  },
  {
   "cell_type": "code",
   "execution_count": 151,
   "metadata": {},
   "outputs": [
    {
     "name": "stdout",
     "output_type": "stream",
     "text": [
      "['пить кофе', 'накидывать пальто', 'вызвала такси', 'принесла бутылку', 'посмотреть Хор', 'радоваться жизни', 'пить кофе']\n"
     ]
    }
   ],
   "source": [
    "verb_noun = chunker('V', 'S')\n",
    "print(verb_noun)"
   ]
  },
  {
   "cell_type": "code",
   "execution_count": 160,
   "metadata": {},
   "outputs": [
    {
     "name": "stdout",
     "output_type": "stream",
     "text": [
      "['кончился получился', 'пришлось пить', 'спешила позавтракала', 'начали убеждать', 'убеждать проголосовать', 'решили посмотреть', 'брошу пить', 'малясь шатаясь']\n"
     ]
    }
   ],
   "source": [
    "verb_verb = chunker('V', 'V')\n",
    "print(verb_verb)"
   ]
  },
  {
   "cell_type": "markdown",
   "metadata": {},
   "source": [
    "Пункт 5. Кажется, что для определения тональности было бы хорошо добавить сочетания 'не' с прилагательными. Кажется, они будут часто встречаться в отрицательных отзывах. То же самое с 'не' и глаголами. Обычно отрицания используются при описании недостатков.\n",
    "Ещё было бы интересно посомтреть и в положительных, и в отрицательных отзывах на сочетание наречие + прилагательное. Где больше ярких эмоций, выраженных через \"очень плохой\"/\"очень хороший\"\n",
    "\n",
    "//код в предыдущую домашку вписать я не успела"
   ]
  },
  {
   "cell_type": "code",
   "execution_count": null,
   "metadata": {},
   "outputs": [],
   "source": []
  }
 ],
 "metadata": {
  "kernelspec": {
   "display_name": "Python 3",
   "language": "python",
   "name": "python3"
  },
  "language_info": {
   "codemirror_mode": {
    "name": "ipython",
    "version": 3
   },
   "file_extension": ".py",
   "mimetype": "text/x-python",
   "name": "python",
   "nbconvert_exporter": "python",
   "pygments_lexer": "ipython3",
   "version": "3.8.0"
  }
 },
 "nbformat": 4,
 "nbformat_minor": 4
}
